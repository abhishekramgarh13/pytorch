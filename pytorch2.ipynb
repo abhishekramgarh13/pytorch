{
  "nbformat": 4,
  "nbformat_minor": 0,
  "metadata": {
    "colab": {
      "provenance": []
    },
    "kernelspec": {
      "name": "python3",
      "display_name": "Python 3"
    },
    "language_info": {
      "name": "python"
    }
  },
  "cells": [
    {
      "cell_type": "code",
      "execution_count": null,
      "metadata": {
        "id": "sUVV9KKoRMIL"
      },
      "outputs": [],
      "source": [
        "# Building model\n",
        "#linear regression model\n",
        "\n",
        "import numpy as np\n",
        "import pandas as pd\n",
        "import torch\n",
        "from torch import nn\n",
        "\n",
        "class LinearRegressionModel(nn.Module):\n",
        "  def __init__(self):\n",
        "    super().__init__()\n",
        "    self.weight = nn.Parameter(torch.randn(1,requires_grad=True,\n",
        "                                            dtype=torch.float))\n",
        "    self.bias = nn.Parameter(torch.randn(1,requires_grad=True,\n",
        "                                         dtype=torch.float))\n",
        "\n",
        "  def forward(self, X:torch.Tensor)->torch.Tensor:\n",
        "      return self.weight * X + self.bias\n",
        "\n"
      ]
    },
    {
      "cell_type": "code",
      "source": [
        "torch.manual_seed(42)\n",
        "\n",
        "model_0 = LinearRegressionModel()\n",
        "\n",
        "model_0"
      ],
      "metadata": {
        "colab": {
          "base_uri": "https://localhost:8080/"
        },
        "id": "zA7tfNNEdiSq",
        "outputId": "00fea986-d6c2-4e0b-9032-46ae55f375d6"
      },
      "execution_count": null,
      "outputs": [
        {
          "output_type": "execute_result",
          "data": {
            "text/plain": [
              "LinearRegressionModel()"
            ]
          },
          "metadata": {},
          "execution_count": 61
        }
      ]
    },
    {
      "cell_type": "code",
      "source": [
        "list(model_0.parameters())"
      ],
      "metadata": {
        "colab": {
          "base_uri": "https://localhost:8080/"
        },
        "id": "EtVJ6sVtd6hy",
        "outputId": "5de5cb67-b160-41b9-df02-387b25ce29be"
      },
      "execution_count": null,
      "outputs": [
        {
          "output_type": "execute_result",
          "data": {
            "text/plain": [
              "[Parameter containing:\n",
              " tensor([0.3367], requires_grad=True),\n",
              " Parameter containing:\n",
              " tensor([0.1288], requires_grad=True)]"
            ]
          },
          "metadata": {},
          "execution_count": 62
        }
      ]
    },
    {
      "cell_type": "code",
      "source": [
        "model_0.state_dict()"
      ],
      "metadata": {
        "colab": {
          "base_uri": "https://localhost:8080/"
        },
        "id": "jPbkhnAOetjm",
        "outputId": "639a8394-3b02-4456-e9a8-5ff1efdb14f0"
      },
      "execution_count": null,
      "outputs": [
        {
          "output_type": "execute_result",
          "data": {
            "text/plain": [
              "OrderedDict([('weight', tensor([0.3367])), ('bias', tensor([0.1288]))])"
            ]
          },
          "metadata": {},
          "execution_count": 63
        }
      ]
    },
    {
      "cell_type": "code",
      "source": [
        "weight = 0.7\n",
        "bias = 0.3\n",
        "\n",
        "# Create data\n",
        "start = 0\n",
        "end = 1\n",
        "step = 0.02\n",
        "X = torch.arange(start, end, step).unsqueeze(dim=1)\n",
        "y = weight * X + bias\n",
        "\n",
        "X[:10], y[:10]"
      ],
      "metadata": {
        "colab": {
          "base_uri": "https://localhost:8080/"
        },
        "id": "khT-A7cff6Vo",
        "outputId": "46b70db3-ea8d-4210-822f-c188af90ad8d"
      },
      "execution_count": null,
      "outputs": [
        {
          "output_type": "execute_result",
          "data": {
            "text/plain": [
              "(tensor([[0.0000],\n",
              "         [0.0200],\n",
              "         [0.0400],\n",
              "         [0.0600],\n",
              "         [0.0800],\n",
              "         [0.1000],\n",
              "         [0.1200],\n",
              "         [0.1400],\n",
              "         [0.1600],\n",
              "         [0.1800]]),\n",
              " tensor([[0.3000],\n",
              "         [0.3140],\n",
              "         [0.3280],\n",
              "         [0.3420],\n",
              "         [0.3560],\n",
              "         [0.3700],\n",
              "         [0.3840],\n",
              "         [0.3980],\n",
              "         [0.4120],\n",
              "         [0.4260]]))"
            ]
          },
          "metadata": {},
          "execution_count": 64
        }
      ]
    },
    {
      "cell_type": "code",
      "source": [
        "train_split = int(0.8 * len(X)) # 80% of data used for training set, 20% for testing\n",
        "X_train, y_train = X[:train_split], y[:train_split]\n",
        "X_test, y_test = X[train_split:], y[train_split:]"
      ],
      "metadata": {
        "id": "lnpLCEhUgTXj"
      },
      "execution_count": null,
      "outputs": []
    },
    {
      "cell_type": "code",
      "source": [
        "with torch.inference_mode():\n",
        "  y_pred = model_0(X_test)\n",
        "\n",
        "y_pred"
      ],
      "metadata": {
        "colab": {
          "base_uri": "https://localhost:8080/"
        },
        "id": "esMNyDGWfX67",
        "outputId": "2da73f72-cfc0-4cd6-c813-5c8739acef52"
      },
      "execution_count": null,
      "outputs": [
        {
          "output_type": "execute_result",
          "data": {
            "text/plain": [
              "tensor([[0.3982],\n",
              "        [0.4049],\n",
              "        [0.4116],\n",
              "        [0.4184],\n",
              "        [0.4251],\n",
              "        [0.4318],\n",
              "        [0.4386],\n",
              "        [0.4453],\n",
              "        [0.4520],\n",
              "        [0.4588]])"
            ]
          },
          "metadata": {},
          "execution_count": 66
        }
      ]
    },
    {
      "cell_type": "code",
      "source": [
        "y_test"
      ],
      "metadata": {
        "id": "KtoXtPeihRmh",
        "outputId": "b4a9c217-75b5-45ba-d2d1-a4909d9cb45a",
        "colab": {
          "base_uri": "https://localhost:8080/"
        }
      },
      "execution_count": null,
      "outputs": [
        {
          "output_type": "execute_result",
          "data": {
            "text/plain": [
              "tensor([[0.8600],\n",
              "        [0.8740],\n",
              "        [0.8880],\n",
              "        [0.9020],\n",
              "        [0.9160],\n",
              "        [0.9300],\n",
              "        [0.9440],\n",
              "        [0.9580],\n",
              "        [0.9720],\n",
              "        [0.9860]])"
            ]
          },
          "metadata": {},
          "execution_count": 7
        }
      ]
    },
    {
      "cell_type": "code",
      "source": [
        "#setup loss function\n",
        "loss_fn = nn.L1Loss()\n",
        "\n",
        "#setup optimizer\n",
        "optimizer = torch.optim.SGD(params=model_0.parameters(),lr=0.01)"
      ],
      "metadata": {
        "id": "AeZkq-rimbEu"
      },
      "execution_count": null,
      "outputs": []
    },
    {
      "cell_type": "code",
      "source": [
        "# building a training loop (and testing loop) in pytorch\n",
        "\n",
        "epochs=200\n",
        "epoch_count = []\n",
        "loss_value = []\n",
        "test_loss_v = []\n",
        "\n",
        "for epoch in range(epochs):\n",
        "  # set the model to taining mode\n",
        "  model_0.train()\n",
        "\n",
        "  #forward pass\n",
        "  y_pred = model_0(X_train)\n",
        "\n",
        "  #calcualte the loss\n",
        "  loss = loss_fn(y_pred,y_train)\n",
        "  print(f\"loss :{loss}\")\n",
        "\n",
        "  #optimizer zero grad\n",
        "  optimizer.zero_grad()\n",
        "\n",
        "  # perform backpropgation on the loss with respect to the parameter\n",
        "  loss.backward()\n",
        "\n",
        "  #step the optimizer (perform gradient descent)\n",
        "  optimizer.step()\n",
        "\n",
        "\n",
        "  model_0.eval() #turns off different settings in the model that is not required for testing\n",
        "  with torch.inference_mode():\n",
        "    # do forward pass\n",
        "    test_pred = model_0(X_test)\n",
        "\n",
        "    #2. calculate the loss\n",
        "    test_loss = loss_fn(test_pred,y_test)\n",
        "\n",
        "  if epoch%10==0:\n",
        "    epoch_count.append(epoch)\n",
        "    loss_value.append(loss)\n",
        "    test_loss_v.append(test_loss)\n",
        "    print(f\"Epoch :{epoch} | loss: {loss} | Test loss: {test_loss}\")\n",
        "    print(model_0.state_dict())"
      ],
      "metadata": {
        "colab": {
          "base_uri": "https://localhost:8080/"
        },
        "id": "M5cPNwqKpd5W",
        "outputId": "84709757-ce5d-412e-802a-1f662a384456"
      },
      "execution_count": null,
      "outputs": [
        {
          "output_type": "stream",
          "name": "stdout",
          "text": [
            "loss :0.31288138031959534\n",
            "Epoch :0 | loss: 0.31288138031959534 | Test loss: 0.48106518387794495\n",
            "OrderedDict([('weight', tensor([0.3406])), ('bias', tensor([0.1388]))])\n",
            "loss :0.3013603389263153\n",
            "loss :0.28983935713768005\n",
            "loss :0.2783183455467224\n",
            "loss :0.26679736375808716\n",
            "loss :0.2552763521671295\n",
            "loss :0.24375534057617188\n",
            "loss :0.23223432898521423\n",
            "loss :0.22071333229541779\n",
            "loss :0.20919232070446014\n",
            "loss :0.1976713240146637\n",
            "Epoch :10 | loss: 0.1976713240146637 | Test loss: 0.3463551998138428\n",
            "OrderedDict([('weight', tensor([0.3796])), ('bias', tensor([0.2388]))])\n",
            "loss :0.18615034222602844\n",
            "loss :0.1746293306350708\n",
            "loss :0.16310831904411316\n",
            "loss :0.1515873372554779\n",
            "loss :0.14006635546684265\n",
            "loss :0.1285453587770462\n",
            "loss :0.11702437698841095\n",
            "loss :0.1060912236571312\n",
            "loss :0.09681284427642822\n",
            "loss :0.08908725529909134\n",
            "Epoch :20 | loss: 0.08908725529909134 | Test loss: 0.21729660034179688\n",
            "OrderedDict([('weight', tensor([0.4184])), ('bias', tensor([0.3333]))])\n",
            "loss :0.08227583020925522\n",
            "loss :0.07638873159885406\n",
            "loss :0.07160007208585739\n",
            "loss :0.06747635453939438\n",
            "loss :0.06395438313484192\n",
            "loss :0.06097004935145378\n",
            "loss :0.05845819041132927\n",
            "loss :0.05635259300470352\n",
            "loss :0.0545857772231102\n",
            "loss :0.053148526698350906\n",
            "Epoch :30 | loss: 0.053148526698350906 | Test loss: 0.14464017748832703\n",
            "OrderedDict([('weight', tensor([0.4512])), ('bias', tensor([0.3768]))])\n",
            "loss :0.05181945487856865\n",
            "loss :0.05069301277399063\n",
            "loss :0.0498228520154953\n",
            "loss :0.04895269125699997\n",
            "loss :0.04819351062178612\n",
            "loss :0.047531817108392715\n",
            "loss :0.04692792519927025\n",
            "loss :0.04642331600189209\n",
            "loss :0.04591871052980423\n",
            "loss :0.04543796554207802\n",
            "Epoch :40 | loss: 0.04543796554207802 | Test loss: 0.11360953003168106\n",
            "OrderedDict([('weight', tensor([0.4748])), ('bias', tensor([0.3868]))])\n",
            "loss :0.04503796249628067\n",
            "loss :0.04463795945048332\n",
            "loss :0.04423796385526657\n",
            "loss :0.04383796453475952\n",
            "loss :0.04343796148896217\n",
            "loss :0.043074630200862885\n",
            "loss :0.04272563382983208\n",
            "loss :0.04237663000822067\n",
            "loss :0.04202762991189957\n",
            "loss :0.04167863354086876\n",
            "Epoch :50 | loss: 0.04167863354086876 | Test loss: 0.09919948130846024\n",
            "OrderedDict([('weight', tensor([0.4938])), ('bias', tensor([0.3843]))])\n",
            "loss :0.04132963344454765\n",
            "loss :0.04098063334822655\n",
            "loss :0.04063162952661514\n",
            "loss :0.040282636880874634\n",
            "loss :0.039933640509843826\n",
            "loss :0.03958464413881302\n",
            "loss :0.03923564404249191\n",
            "loss :0.03888664394617081\n",
            "loss :0.0385376438498497\n",
            "loss :0.03818932920694351\n",
            "Epoch :60 | loss: 0.03818932920694351 | Test loss: 0.08886633068323135\n",
            "OrderedDict([('weight', tensor([0.5116])), ('bias', tensor([0.3788]))])\n",
            "loss :0.03785243630409241\n",
            "loss :0.0375034399330616\n",
            "loss :0.037164121866226196\n",
            "loss :0.03681822493672371\n",
            "loss :0.03647511452436447\n",
            "loss :0.03613303601741791\n",
            "loss :0.03578609973192215\n",
            "loss :0.03544783592224121\n",
            "loss :0.035098835825920105\n",
            "loss :0.03476089984178543\n",
            "Epoch :70 | loss: 0.03476089984178543 | Test loss: 0.0805937647819519\n",
            "OrderedDict([('weight', tensor([0.5288])), ('bias', tensor([0.3718]))])\n",
            "loss :0.03441363573074341\n",
            "loss :0.03407188132405281\n",
            "loss :0.03372843936085701\n",
            "loss :0.03338287025690079\n",
            "loss :0.033043231815099716\n",
            "loss :0.03269423171877861\n",
            "loss :0.032357655465602875\n",
            "loss :0.03200903534889221\n",
            "loss :0.03166864812374115\n",
            "loss :0.03132382780313492\n",
            "Epoch :80 | loss: 0.03132382780313492 | Test loss: 0.07232122868299484\n",
            "OrderedDict([('weight', tensor([0.5459])), ('bias', tensor([0.3648]))])\n",
            "loss :0.030979642644524574\n",
            "loss :0.030638623982667923\n",
            "loss :0.0302906334400177\n",
            "loss :0.029953425750136375\n",
            "loss :0.02960442565381527\n",
            "loss :0.029265418648719788\n",
            "loss :0.028919223695993423\n",
            "loss :0.028576409444212914\n",
            "loss :0.028234025463461876\n",
            "loss :0.02788739837706089\n",
            "Epoch :90 | loss: 0.02788739837706089 | Test loss: 0.06473556160926819\n",
            "OrderedDict([('weight', tensor([0.5629])), ('bias', tensor([0.3573]))])\n",
            "loss :0.02754882536828518\n",
            "loss :0.027199819684028625\n",
            "loss :0.026862185448408127\n",
            "loss :0.02651461586356163\n",
            "loss :0.026173178106546402\n",
            "loss :0.025829419493675232\n",
            "loss :0.02548416517674923\n",
            "loss :0.025144213810563087\n",
            "loss :0.02479521557688713\n",
            "loss :0.024458957836031914\n",
            "Epoch :100 | loss: 0.024458957836031914 | Test loss: 0.05646304413676262\n",
            "OrderedDict([('weight', tensor([0.5800])), ('bias', tensor([0.3503]))])\n",
            "loss :0.024110013619065285\n",
            "loss :0.02376994863152504\n",
            "loss :0.02342480979859829\n",
            "loss :0.023080935701727867\n",
            "loss :0.022739607840776443\n",
            "loss :0.022391926497220993\n",
            "loss :0.022054409608244896\n",
            "loss :0.02170540764927864\n",
            "loss :0.021366719156503677\n",
            "loss :0.021020207554101944\n",
            "Epoch :110 | loss: 0.021020207554101944 | Test loss: 0.04819049686193466\n",
            "OrderedDict([('weight', tensor([0.5972])), ('bias', tensor([0.3433]))])\n",
            "loss :0.020677709951996803\n",
            "loss :0.02033500373363495\n",
            "loss :0.01998869702219963\n",
            "loss :0.019649803638458252\n",
            "loss :0.019300809130072594\n",
            "loss :0.018963487818837166\n",
            "loss :0.01861560344696045\n",
            "loss :0.018274478614330292\n",
            "loss :0.017930403351783752\n",
            "loss :0.01758546568453312\n",
            "Epoch :120 | loss: 0.01758546568453312 | Test loss: 0.04060482233762741\n",
            "OrderedDict([('weight', tensor([0.6141])), ('bias', tensor([0.3358]))])\n",
            "loss :0.017245199531316757\n",
            "loss :0.016896454617381096\n",
            "loss :0.01656000316143036\n",
            "loss :0.016210997477173805\n",
            "loss :0.01587124727666378\n",
            "loss :0.015525798313319683\n",
            "loss :0.015182236209511757\n",
            "loss :0.014840595424175262\n",
            "loss :0.01449323259294033\n",
            "loss :0.014155393466353416\n",
            "Epoch :130 | loss: 0.014155393466353416 | Test loss: 0.03233227878808975\n",
            "OrderedDict([('weight', tensor([0.6313])), ('bias', tensor([0.3288]))])\n",
            "loss :0.013806397095322609\n",
            "loss :0.013468016870319843\n",
            "loss :0.013121193274855614\n",
            "loss :0.01277900766581297\n",
            "loss :0.012435992248356342\n",
            "loss :0.01208999752998352\n",
            "loss :0.011750795878469944\n",
            "loss :0.011401787400245667\n",
            "loss :0.011064787395298481\n",
            "loss :0.010716589167714119\n",
            "Epoch :140 | loss: 0.010716589167714119 | Test loss: 0.024059748277068138\n",
            "OrderedDict([('weight', tensor([0.6485])), ('bias', tensor([0.3218]))])\n",
            "loss :0.010375778190791607\n",
            "loss :0.010031387209892273\n",
            "loss :0.009686763398349285\n",
            "loss :0.009346187114715576\n",
            "loss :0.008997755125164986\n",
            "loss :0.008660981431603432\n",
            "loss :0.008311985060572624\n",
            "loss :0.007972544990479946\n",
            "loss :0.007626785431057215\n",
            "loss :0.0072835334576666355\n",
            "Epoch :150 | loss: 0.0072835334576666355 | Test loss: 0.016474086791276932\n",
            "OrderedDict([('weight', tensor([0.6654])), ('bias', tensor([0.3143]))])\n",
            "loss :0.006941580679267645\n",
            "loss :0.006594526115804911\n",
            "loss :0.006256377790123224\n",
            "loss :0.005907376762479544\n",
            "loss :0.005569315515458584\n",
            "loss :0.005222178064286709\n",
            "loss :0.004880306776612997\n",
            "loss :0.004536976106464863\n",
            "loss :0.00419129803776741\n",
            "loss :0.0038517764769494534\n",
            "Epoch :160 | loss: 0.0038517764769494534 | Test loss: 0.008201557211577892\n",
            "OrderedDict([('weight', tensor([0.6826])), ('bias', tensor([0.3073]))])\n",
            "loss :0.0035027749836444855\n",
            "loss :0.0031660839449614286\n",
            "loss :0.002817571861669421\n",
            "loss :0.0024770735763013363\n",
            "loss :0.0021323717664927244\n",
            "loss :0.0017880648374557495\n",
            "loss :0.0014518328243866563\n",
            "loss :0.0011887758737429976\n",
            "loss :0.0025885067880153656\n",
            "loss :0.008932482451200485\n",
            "Epoch :170 | loss: 0.008932482451200485 | Test loss: 0.005023092031478882\n",
            "OrderedDict([('weight', tensor([0.6951])), ('bias', tensor([0.2993]))])\n",
            "loss :0.0025885067880153656\n",
            "loss :0.008932482451200485\n",
            "loss :0.0025885067880153656\n",
            "loss :0.008932482451200485\n",
            "loss :0.0025885067880153656\n",
            "loss :0.008932482451200485\n",
            "loss :0.0025885067880153656\n",
            "loss :0.008932482451200485\n",
            "loss :0.0025885067880153656\n",
            "loss :0.008932482451200485\n",
            "Epoch :180 | loss: 0.008932482451200485 | Test loss: 0.005023092031478882\n",
            "OrderedDict([('weight', tensor([0.6951])), ('bias', tensor([0.2993]))])\n",
            "loss :0.0025885067880153656\n",
            "loss :0.008932482451200485\n",
            "loss :0.0025885067880153656\n",
            "loss :0.008932482451200485\n",
            "loss :0.0025885067880153656\n",
            "loss :0.008932482451200485\n",
            "loss :0.0025885067880153656\n",
            "loss :0.008932482451200485\n",
            "loss :0.0025885067880153656\n",
            "loss :0.008932482451200485\n",
            "Epoch :190 | loss: 0.008932482451200485 | Test loss: 0.005023092031478882\n",
            "OrderedDict([('weight', tensor([0.6951])), ('bias', tensor([0.2993]))])\n",
            "loss :0.0025885067880153656\n",
            "loss :0.008932482451200485\n",
            "loss :0.0025885067880153656\n",
            "loss :0.008932482451200485\n",
            "loss :0.0025885067880153656\n",
            "loss :0.008932482451200485\n",
            "loss :0.0025885067880153656\n",
            "loss :0.008932482451200485\n",
            "loss :0.0025885067880153656\n"
          ]
        }
      ]
    },
    {
      "cell_type": "code",
      "source": [
        "loss_value"
      ],
      "metadata": {
        "colab": {
          "base_uri": "https://localhost:8080/"
        },
        "id": "nYYnLTfF8r5i",
        "outputId": "2f3167bb-5897-4010-b62c-bec35237933b"
      },
      "execution_count": null,
      "outputs": [
        {
          "output_type": "execute_result",
          "data": {
            "text/plain": [
              "[tensor(0.3129, grad_fn=<MeanBackward0>),\n",
              " tensor(0.1977, grad_fn=<MeanBackward0>),\n",
              " tensor(0.0891, grad_fn=<MeanBackward0>),\n",
              " tensor(0.0531, grad_fn=<MeanBackward0>),\n",
              " tensor(0.0454, grad_fn=<MeanBackward0>),\n",
              " tensor(0.0417, grad_fn=<MeanBackward0>),\n",
              " tensor(0.0382, grad_fn=<MeanBackward0>),\n",
              " tensor(0.0348, grad_fn=<MeanBackward0>),\n",
              " tensor(0.0313, grad_fn=<MeanBackward0>),\n",
              " tensor(0.0279, grad_fn=<MeanBackward0>),\n",
              " tensor(0.0245, grad_fn=<MeanBackward0>),\n",
              " tensor(0.0210, grad_fn=<MeanBackward0>),\n",
              " tensor(0.0176, grad_fn=<MeanBackward0>),\n",
              " tensor(0.0142, grad_fn=<MeanBackward0>),\n",
              " tensor(0.0107, grad_fn=<MeanBackward0>),\n",
              " tensor(0.0073, grad_fn=<MeanBackward0>),\n",
              " tensor(0.0039, grad_fn=<MeanBackward0>),\n",
              " tensor(0.0089, grad_fn=<MeanBackward0>),\n",
              " tensor(0.0089, grad_fn=<MeanBackward0>),\n",
              " tensor(0.0089, grad_fn=<MeanBackward0>)]"
            ]
          },
          "metadata": {},
          "execution_count": 69
        }
      ]
    },
    {
      "cell_type": "code",
      "source": [
        "list(model_0.parameters())"
      ],
      "metadata": {
        "colab": {
          "base_uri": "https://localhost:8080/"
        },
        "id": "UhigFm2DvAV2",
        "outputId": "0ad195e3-958c-4c9e-e7bb-b623dc551581"
      },
      "execution_count": null,
      "outputs": [
        {
          "output_type": "execute_result",
          "data": {
            "text/plain": [
              "[Parameter containing:\n",
              " tensor([0.6990], requires_grad=True),\n",
              " Parameter containing:\n",
              " tensor([0.3093], requires_grad=True)]"
            ]
          },
          "metadata": {},
          "execution_count": 77
        }
      ]
    },
    {
      "cell_type": "code",
      "source": [
        "with torch.inference_mode():\n",
        "  y_preds_new = model_0(X_test)\n",
        "\n",
        "print(y_preds_new)"
      ],
      "metadata": {
        "colab": {
          "base_uri": "https://localhost:8080/"
        },
        "id": "rjIF-HDl125t",
        "outputId": "e88c48ee-f713-4136-d823-3061da17953c"
      },
      "execution_count": null,
      "outputs": [
        {
          "output_type": "stream",
          "name": "stdout",
          "text": [
            "tensor([[0.8685],\n",
            "        [0.8825],\n",
            "        [0.8965],\n",
            "        [0.9105],\n",
            "        [0.9245],\n",
            "        [0.9384],\n",
            "        [0.9524],\n",
            "        [0.9664],\n",
            "        [0.9804],\n",
            "        [0.9944]])\n"
          ]
        }
      ]
    },
    {
      "cell_type": "code",
      "source": [
        "#saving and loading model in pytorch\n",
        "from pathlib import Path\n",
        "\n",
        "#creating model directory\n",
        "MODEL_PATH = Path('models')\n",
        "MODEL_PATH.mkdir(parents=True,exist_ok=True)\n",
        "\n",
        "#create model save path\n",
        "MODEL_NAME='01_pytorch_workflow_model_0.pth'\n",
        "MODEL_SAVE_PATH = MODEL_PATH / MODEL_NAME\n",
        "\n",
        "# save the model state_dict\n",
        "print(f\"saving model to path : {MODEL_SAVE_PATH}\")\n",
        "torch.save(obj=model_0.state_dict(),f=MODEL_SAVE_PATH)"
      ],
      "metadata": {
        "colab": {
          "base_uri": "https://localhost:8080/"
        },
        "id": "4srhSh_L_fi6",
        "outputId": "21fa170e-d671-4949-af1b-daae4a301402"
      },
      "execution_count": null,
      "outputs": [
        {
          "output_type": "stream",
          "name": "stdout",
          "text": [
            "saving model to path : models/01_pytorch_workflow_model_0.pth\n"
          ]
        }
      ]
    },
    {
      "cell_type": "code",
      "source": [
        "!ls -l models"
      ],
      "metadata": {
        "colab": {
          "base_uri": "https://localhost:8080/"
        },
        "id": "sdQHlgc-CH9f",
        "outputId": "95453930-d1c6-45ac-8d73-1af7c1199e00"
      },
      "execution_count": null,
      "outputs": [
        {
          "output_type": "stream",
          "name": "stdout",
          "text": [
            "total 4\n",
            "-rw-r--r-- 1 root root 1680 Aug 23 11:42 01_pytorch_workflow_model_0.pth\n"
          ]
        }
      ]
    },
    {
      "cell_type": "code",
      "source": [
        "# loading save model\n",
        "loaded_model_0 = LinearRegressionModel()\n",
        "\n",
        "# load the saved state_dict()\n",
        "loaded_model_0.load_state_dict(torch.load(f=MODEL_SAVE_PATH))"
      ],
      "metadata": {
        "colab": {
          "base_uri": "https://localhost:8080/"
        },
        "id": "xJDrUTtBDL3L",
        "outputId": "7990c621-a390-47d3-aae4-4b7ea3370944"
      },
      "execution_count": null,
      "outputs": [
        {
          "output_type": "execute_result",
          "data": {
            "text/plain": [
              "<All keys matched successfully>"
            ]
          },
          "metadata": {},
          "execution_count": 74
        }
      ]
    },
    {
      "cell_type": "code",
      "source": [
        "loaded_model_0.state_dict()"
      ],
      "metadata": {
        "colab": {
          "base_uri": "https://localhost:8080/"
        },
        "id": "wKhxweZSEiNa",
        "outputId": "cc8f618e-7a4f-466c-e0cd-107b651bdfd3"
      },
      "execution_count": null,
      "outputs": [
        {
          "output_type": "execute_result",
          "data": {
            "text/plain": [
              "OrderedDict([('weight', tensor([0.6990])), ('bias', tensor([0.3093]))])"
            ]
          },
          "metadata": {},
          "execution_count": 75
        }
      ]
    },
    {
      "cell_type": "code",
      "source": [
        "loaded_model_0.eval()\n",
        "with torch.inference_mode():\n",
        "  loaded_model_pred = loaded_model_0(X_test)"
      ],
      "metadata": {
        "id": "AE7JAN4_EpDu"
      },
      "execution_count": null,
      "outputs": []
    },
    {
      "cell_type": "code",
      "source": [
        "y_preds_new == loaded_model_pred"
      ],
      "metadata": {
        "colab": {
          "base_uri": "https://localhost:8080/"
        },
        "id": "4FIqpvnMFDS4",
        "outputId": "08feee9f-a452-438f-fbc0-c0ae5136c902"
      },
      "execution_count": null,
      "outputs": [
        {
          "output_type": "execute_result",
          "data": {
            "text/plain": [
              "tensor([[True],\n",
              "        [True],\n",
              "        [True],\n",
              "        [True],\n",
              "        [True],\n",
              "        [True],\n",
              "        [True],\n",
              "        [True],\n",
              "        [True],\n",
              "        [True]])"
            ]
          },
          "metadata": {},
          "execution_count": 80
        }
      ]
    }
  ]
}